{
 "cells": [
  {
   "cell_type": "code",
   "execution_count": 1,
   "id": "0efab694",
   "metadata": {},
   "outputs": [],
   "source": [
    "# Import numpy library\n",
    "import numpy as np\n",
    "\n",
    "# Take item weights as input from the "
   ]
  },
  {
   "cell_type": "code",
   "execution_count": 8,
   "id": "add29494",
   "metadata": {},
   "outputs": [
    {
     "name": "stdout",
     "output_type": "stream",
     "text": [
      "30\n",
      "5\n"
     ]
    }
   ],
   "source": [
    "weights = eval(input(\"Enter:\"))\n",
    "item_weight = np.array(weights)\n",
    "heaviest_item = np.max(item_weight)\n",
    "lightest=np.min(item_weight)\n",
    "print(heaviest_item)\n",
    "print(lightest)\n",
    "\n"
   ]
  },
  {
   "cell_type": "code",
   "execution_count": 10,
   "id": "ddf7ae83",
   "metadata": {},
   "outputs": [
    {
     "name": "stdout",
     "output_type": "stream",
     "text": [
      "14.6\n"
     ]
    }
   ],
   "source": [
    "# Import numpy library\n",
    "import numpy as np\n",
    "\n",
    "# Take nested list which contains stock level data as input\n",
    "stock_levels = eval(input())\n",
    "\n",
    "stock_arr = np.array(stock_levels)\n",
    "average_val=np.mean(stock_arr)\n",
    "print(average_val)"
   ]
  },
  {
   "cell_type": "code",
   "execution_count": 13,
   "id": "ca8f422a",
   "metadata": {},
   "outputs": [
    {
     "name": "stdout",
     "output_type": "stream",
     "text": [
      "[[ 0  1  2  3  4  5]\n",
      " [ 6  7  8  9 10 11]\n",
      " [12 13 14 15 16 17]]\n"
     ]
    }
   ],
   "source": [
    "# Import numpy library\n",
    "import numpy as np\n",
    "\n",
    "# Take user input for dimensions of the 2D array\n",
    "n = int(input())  # number of rows\n",
    "m = int(input())  # number of columns\n",
    "arr_2d=np.arange(n*m).reshape(n,m)\n",
    "print(arr_2d)"
   ]
  },
  {
   "cell_type": "code",
   "execution_count": null,
   "id": "ed1b9605",
   "metadata": {},
   "outputs": [],
   "source": []
  }
 ],
 "metadata": {
  "kernelspec": {
   "display_name": "Python 3",
   "language": "python",
   "name": "python3"
  },
  "language_info": {
   "codemirror_mode": {
    "name": "ipython",
    "version": 3
   },
   "file_extension": ".py",
   "mimetype": "text/x-python",
   "name": "python",
   "nbconvert_exporter": "python",
   "pygments_lexer": "ipython3",
   "version": "3.13.6"
  }
 },
 "nbformat": 4,
 "nbformat_minor": 5
}
