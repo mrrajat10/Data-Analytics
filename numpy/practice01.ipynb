{
 "cells": [
  {
   "cell_type": "code",
   "execution_count": 2,
   "id": "3e9c0692",
   "metadata": {},
   "outputs": [],
   "source": [
    "import numpy as np\n"
   ]
  },
  {
   "cell_type": "code",
   "execution_count": 3,
   "id": "ac81416c",
   "metadata": {},
   "outputs": [],
   "source": [
    "rng = np.random.default_rng(42)\n"
   ]
  },
  {
   "cell_type": "code",
   "execution_count": 4,
   "id": "d7cc49a4",
   "metadata": {},
   "outputs": [
    {
     "data": {
      "text/plain": [
       "'2.2.6'"
      ]
     },
     "execution_count": 4,
     "metadata": {},
     "output_type": "execute_result"
    }
   ],
   "source": [
    "np.__version__"
   ]
  },
  {
   "cell_type": "code",
   "execution_count": 5,
   "id": "f158399d",
   "metadata": {},
   "outputs": [
    {
     "data": {
      "text/plain": [
       "array([1, 2, 3])"
      ]
     },
     "execution_count": 5,
     "metadata": {},
     "output_type": "execute_result"
    }
   ],
   "source": [
    "a=np.array([1,2,3],dtype=np.int64)\n",
    "a"
   ]
  },
  {
   "cell_type": "code",
   "execution_count": 6,
   "id": "3a62c7e2",
   "metadata": {},
   "outputs": [
    {
     "data": {
      "text/plain": [
       "array([[1, 2, 3],\n",
       "       [4, 5, 6]])"
      ]
     },
     "execution_count": 6,
     "metadata": {},
     "output_type": "execute_result"
    }
   ],
   "source": [
    "b = np.array([[1, 2, 3],[4., 5., 6.]], dtype=np.int64)\n",
    "b"
   ]
  },
  {
   "cell_type": "code",
   "execution_count": 7,
   "id": "8d953c1b",
   "metadata": {},
   "outputs": [
    {
     "data": {
      "text/plain": [
       "array([0, 2, 4, 6, 8])"
      ]
     },
     "execution_count": 7,
     "metadata": {},
     "output_type": "execute_result"
    }
   ],
   "source": [
    "ar=np.arange(0,10,2)\n",
    "ar"
   ]
  },
  {
   "cell_type": "code",
   "execution_count": 8,
   "id": "342bfe65",
   "metadata": {},
   "outputs": [
    {
     "data": {
      "text/plain": [
       "array([0.        , 0.57142857, 1.14285714, 1.71428571, 2.28571429,\n",
       "       2.85714286, 3.42857143, 4.        ])"
      ]
     },
     "execution_count": 8,
     "metadata": {},
     "output_type": "execute_result"
    }
   ],
   "source": [
    "lin=np.linspace(0,4,8)\n",
    "lin"
   ]
  },
  {
   "cell_type": "code",
   "execution_count": 9,
   "id": "5a3a0d94",
   "metadata": {},
   "outputs": [
    {
     "data": {
      "text/plain": [
       "array([  10.        ,   46.41588834,  215.443469  , 1000.        ])"
      ]
     },
     "execution_count": 9,
     "metadata": {},
     "output_type": "execute_result"
    }
   ],
   "source": [
    "log=np.logspace(1,3,num=4)\n",
    "log"
   ]
  },
  {
   "cell_type": "code",
   "execution_count": 10,
   "id": "6f65bfbd",
   "metadata": {},
   "outputs": [
    {
     "data": {
      "text/plain": [
       "array([[0., 0., 0.],\n",
       "       [0., 0., 0.]])"
      ]
     },
     "execution_count": 10,
     "metadata": {},
     "output_type": "execute_result"
    }
   ],
   "source": [
    "nz=np.zeros((2,3))\n",
    "nz"
   ]
  },
  {
   "cell_type": "code",
   "execution_count": 11,
   "id": "10738d3e",
   "metadata": {},
   "outputs": [
    {
     "data": {
      "text/plain": [
       "array([[7, 7, 7],\n",
       "       [7, 7, 7]])"
      ]
     },
     "execution_count": 11,
     "metadata": {},
     "output_type": "execute_result"
    }
   ],
   "source": [
    "o= np.full((2, 3),fill_value=7)\n",
    "o"
   ]
  },
  {
   "cell_type": "code",
   "execution_count": 12,
   "id": "faf77f6d",
   "metadata": {},
   "outputs": [
    {
     "data": {
      "text/plain": [
       "array([[1., 0., 0., 0.],\n",
       "       [0., 1., 0., 0.],\n",
       "       [0., 0., 1., 0.],\n",
       "       [0., 0., 0., 1.]])"
      ]
     },
     "execution_count": 12,
     "metadata": {},
     "output_type": "execute_result"
    }
   ],
   "source": [
    "i=np.eye(4)\n",
    "i"
   ]
  },
  {
   "cell_type": "code",
   "execution_count": 13,
   "id": "83396385",
   "metadata": {},
   "outputs": [
    {
     "data": {
      "text/plain": [
       "array([[10,  0,  0],\n",
       "       [ 0, 20,  0],\n",
       "       [ 0,  0, 30]])"
      ]
     },
     "execution_count": 13,
     "metadata": {},
     "output_type": "execute_result"
    }
   ],
   "source": [
    "D = np.diag([10, 20, 30])\n",
    "D"
   ]
  },
  {
   "cell_type": "code",
   "execution_count": 14,
   "id": "e8133648",
   "metadata": {},
   "outputs": [
    {
     "data": {
      "text/plain": [
       "array([[ 0.30471708, -1.03998411,  0.7504512 ,  0.94056472],\n",
       "       [-1.95103519, -1.30217951,  0.1278404 , -0.31624259],\n",
       "       [-0.01680116, -0.85304393,  0.87939797,  0.77779194]])"
      ]
     },
     "execution_count": 14,
     "metadata": {},
     "output_type": "execute_result"
    }
   ],
   "source": [
    "x = rng.normal(size=(3, 4))\n",
    "x"
   ]
  },
  {
   "cell_type": "code",
   "execution_count": 15,
   "id": "e3792ab0",
   "metadata": {},
   "outputs": [
    {
     "data": {
      "text/plain": [
       "(3, 4)"
      ]
     },
     "execution_count": 15,
     "metadata": {},
     "output_type": "execute_result"
    }
   ],
   "source": [
    "shape = x.shape\n",
    "shape"
   ]
  },
  {
   "cell_type": "code",
   "execution_count": 16,
   "id": "fc6fb941",
   "metadata": {},
   "outputs": [
    {
     "data": {
      "text/plain": [
       "2"
      ]
     },
     "execution_count": 16,
     "metadata": {},
     "output_type": "execute_result"
    }
   ],
   "source": [
    "ndim = x.ndim\n",
    "ndim"
   ]
  },
  {
   "cell_type": "code",
   "execution_count": 17,
   "id": "5d539e2c",
   "metadata": {},
   "outputs": [
    {
     "data": {
      "text/plain": [
       "dtype('float64')"
      ]
     },
     "execution_count": 17,
     "metadata": {},
     "output_type": "execute_result"
    }
   ],
   "source": [
    "dtype = x.dtype\n",
    "dtype"
   ]
  },
  {
   "cell_type": "code",
   "execution_count": 18,
   "id": "4ba7a947",
   "metadata": {},
   "outputs": [
    {
     "data": {
      "text/plain": [
       "12"
      ]
     },
     "execution_count": 18,
     "metadata": {},
     "output_type": "execute_result"
    }
   ],
   "source": [
    "size = x.size\n",
    "size"
   ]
  },
  {
   "cell_type": "code",
   "execution_count": 19,
   "id": "66398f0f",
   "metadata": {},
   "outputs": [
    {
     "data": {
      "text/plain": [
       "8"
      ]
     },
     "execution_count": 19,
     "metadata": {},
     "output_type": "execute_result"
    }
   ],
   "source": [
    "itemsize = x.itemsize\n",
    "itemsize"
   ]
  },
  {
   "cell_type": "code",
   "execution_count": 20,
   "id": "38a14cea",
   "metadata": {},
   "outputs": [
    {
     "data": {
      "text/plain": [
       "96"
      ]
     },
     "execution_count": 20,
     "metadata": {},
     "output_type": "execute_result"
    }
   ],
   "source": [
    "nbytes = x.nbytes\n",
    "nbytes"
   ]
  },
  {
   "cell_type": "code",
   "execution_count": 21,
   "id": "dd780d8c",
   "metadata": {},
   "outputs": [
    {
     "data": {
      "text/plain": [
       "(32, 8)"
      ]
     },
     "execution_count": 21,
     "metadata": {},
     "output_type": "execute_result"
    }
   ],
   "source": [
    "strides = x.strides\n",
    "strides"
   ]
  },
  {
   "cell_type": "code",
   "execution_count": 22,
   "id": "55de185a",
   "metadata": {},
   "outputs": [
    {
     "data": {
      "text/plain": [
       "dtype('int32')"
      ]
     },
     "execution_count": 22,
     "metadata": {},
     "output_type": "execute_result"
    }
   ],
   "source": [
    "d = np.array([2,4,5,9],dtype=np.int32)\n",
    "d.dtype"
   ]
  },
  {
   "cell_type": "code",
   "execution_count": 23,
   "id": "0fde3047",
   "metadata": {},
   "outputs": [
    {
     "data": {
      "text/plain": [
       "dtype('int32')"
      ]
     },
     "execution_count": 23,
     "metadata": {},
     "output_type": "execute_result"
    }
   ],
   "source": [
    "d32 = d.astype(np.int32, copy=True)\n",
    "d32.dtype\n",
    "\n"
   ]
  },
  {
   "cell_type": "code",
   "execution_count": 24,
   "id": "f70c6b3d",
   "metadata": {},
   "outputs": [
    {
     "data": {
      "text/plain": [
       "dtype('int32')"
      ]
     },
     "execution_count": 24,
     "metadata": {},
     "output_type": "execute_result"
    }
   ],
   "source": [
    "f64=d32.astype(np.float64,copy=True)\n",
    "d32.dtype"
   ]
  },
  {
   "cell_type": "code",
   "execution_count": 25,
   "id": "984104ef",
   "metadata": {},
   "outputs": [
    {
     "data": {
      "text/plain": [
       "(array([-1,  1, -1,  3, -1,  5, -1,  7, -1,  9]),\n",
       " array([-1, -1, -1, -1, -1]),\n",
       " array([ 1, -1,  3, -1,  5]))"
      ]
     },
     "execution_count": 25,
     "metadata": {},
     "output_type": "execute_result"
    }
   ],
   "source": [
    "s = np.arange(10)\n",
    "view=s[::2]\n",
    "view[...] = -1\n",
    "copy=s[1:6].copy()\n",
    "s ,view,copy"
   ]
  },
  {
   "cell_type": "code",
   "execution_count": 26,
   "id": "d2f4b115",
   "metadata": {},
   "outputs": [
    {
     "ename": "NameError",
     "evalue": "name 'M' is not defined",
     "output_type": "error",
     "traceback": [
      "\u001b[31m---------------------------------------------------------------------------\u001b[39m",
      "\u001b[31mNameError\u001b[39m                                 Traceback (most recent call last)",
      "\u001b[36mCell\u001b[39m\u001b[36m \u001b[39m\u001b[32mIn[26]\u001b[39m\u001b[32m, line 5\u001b[39m\n\u001b[32m      3\u001b[39m rows=m[\u001b[32m0\u001b[39m]\n\u001b[32m      4\u001b[39m cols=m[:,-\u001b[32m1\u001b[39m]\n\u001b[32m----> \u001b[39m\u001b[32m5\u001b[39m rows01_cols13 = \u001b[43mM\u001b[49m[np.ix_([\u001b[32m0\u001b[39m, \u001b[32m1\u001b[39m], [\u001b[32m1\u001b[39m, \u001b[32m3\u001b[39m])]\n\u001b[32m      6\u001b[39m m, rows, cols, rows01_cols13\n",
      "\u001b[31mNameError\u001b[39m: name 'M' is not defined"
     ]
    }
   ],
   "source": [
    "# 2D Indexing Helpers\n",
    "m = np.arange(1, 13).reshape(3, 4)\n",
    "rows=m[0]\n",
    "cols=m[:,-1]\n",
    "rows01_cols13 = M[np.ix_([0, 1], [1, 3])]\n",
    "m, rows, cols, rows01_cols13"
   ]
  },
  {
   "cell_type": "code",
   "execution_count": null,
   "id": "09cf2a9d",
   "metadata": {},
   "outputs": [
    {
     "data": {
      "text/plain": [
       "(array([ 0,  1,  2,  3,  4,  5,  6,  7,  8,  9, 10, 11, 12, 13, 14, 15, 16,\n",
       "        17, 18, 19, 20]),\n",
       " array([ True, False, False,  True, False, False,  True, False, False,\n",
       "         True, False, False,  True, False, False,  True, False, False,\n",
       "         True, False, False]),\n",
       " array([ 0,  3,  6,  9, 12, 15, 18]),\n",
       " array(['0', 'odd', '2', 'odd', '4', 'odd', '6', 'odd', '8', 'odd', '10',\n",
       "        'odd', '12', 'odd', '14', 'odd', '16', 'odd', '18', 'odd', '20'],\n",
       "       dtype='<U21'))"
      ]
     },
     "execution_count": 81,
     "metadata": {},
     "output_type": "execute_result"
    }
   ],
   "source": [
    "v = np.arange(0, 21)\n",
    "mask = (v % 3==0)\n",
    "selected = v[mask]\n",
    "where_demo=np.where(v%2==0,v,\"odd\")\n",
    "v,mask,selected,where_demo"
   ]
  },
  {
   "cell_type": "code",
   "execution_count": null,
   "id": "f15dbeb9",
   "metadata": {},
   "outputs": [
    {
     "data": {
      "text/plain": [
       "(array([ 0,  1,  2,  3,  4,  5,  6,  7,  8,  9, 10, 11]),\n",
       " array([[ 0,  1,  2,  3],\n",
       "        [ 4,  5,  6,  7],\n",
       "        [ 8,  9, 10, 11]]),\n",
       " array([ 0,  1,  2,  3,  4,  5,  6,  7,  8,  9, 10, 11]),\n",
       " array([ 0,  1,  2,  3,  4,  5,  6,  7,  8,  9, 10, 11]),\n",
       " array([[ 0,  4,  8],\n",
       "        [ 1,  5,  9],\n",
       "        [ 2,  6, 10],\n",
       "        [ 3,  7, 11]]),\n",
       " array([[[ 0,  1],\n",
       "         [ 6,  7]],\n",
       " \n",
       "        [[ 2,  3],\n",
       "         [ 8,  9]],\n",
       " \n",
       "        [[ 4,  5],\n",
       "         [10, 11]]]),\n",
       " (3, 4, 2))"
      ]
     },
     "execution_count": 97,
     "metadata": {},
     "output_type": "execute_result"
    }
   ],
   "source": [
    "# 7) Reshape & Axis Moves\n",
    "r=np.arange(12)\n",
    "re=r.reshape(3,4)\n",
    "ravel_veiw=re.ravel()\n",
    "flattem=re.flatten()\n",
    "T = re.T\n",
    "swapped=np.swapaxes(re.reshape(2,3,2),0,1)\n",
    "moved = np.moveaxis(np.zeros((2, 3, 4)), 0, -1).shape\n",
    "\n",
    "r,re,ravel_veiw,flattem,T,swapped,moved"
   ]
  },
  {
   "cell_type": "code",
   "execution_count": null,
   "id": "cc2fe58b",
   "metadata": {},
   "outputs": [
    {
     "data": {
      "text/plain": [
       "(array([[0, 1, 2],\n",
       "        [3, 4, 5]]),\n",
       " array([[10, 11, 12],\n",
       "        [13, 14, 15]]),\n",
       " array([[[ 0,  1,  2],\n",
       "         [ 3,  4,  5]],\n",
       " \n",
       "        [[10, 11, 12],\n",
       "         [13, 14, 15]]]),\n",
       " array([[ 0,  1,  2, 10, 11, 12],\n",
       "        [ 3,  4,  5, 13, 14, 15]]))"
      ]
     },
     "execution_count": 101,
     "metadata": {},
     "output_type": "execute_result"
    }
   ],
   "source": [
    "A = np.arange(6).reshape(2, 3)\n",
    "B = A + 10\n",
    "vert_stack=np.stack([A,B])\n",
    "hstacked = np.hstack([A, B])                                                                        \n",
    "\n",
    "\n",
    "\n",
    "\n",
    "\n",
    "A,B,vert_stack,hstacked"
   ]
  },
  {
   "cell_type": "code",
   "execution_count": 27,
   "id": "666316fd",
   "metadata": {},
   "outputs": [
    {
     "data": {
      "text/plain": [
       "((np.float64(nan),\n",
       "  np.float64(nan),\n",
       "  np.float64(nan),\n",
       "  np.float64(nan),\n",
       "  np.float64(nan),\n",
       "  np.float64(nan)),\n",
       " (np.float64(7.0),\n",
       "  np.float64(2.3333333333333335),\n",
       "  np.float64(1.0),\n",
       "  np.float64(4.0)))"
      ]
     },
     "execution_count": 27,
     "metadata": {},
     "output_type": "execute_result"
    }
   ],
   "source": [
    "a = np.array([1.0, 2.0, np.nan, 4.0])\n",
    "basic = (a.sum(), a.mean(), a.min(), a.max(), a.std(), a.var())\n",
    "nan_safe = (np.nansum(a), np.nanmean(a), np.nanmin(a), np.nanmax(a))\n",
    "basic, nan_safe"
   ]
  },
  {
   "cell_type": "code",
   "execution_count": 29,
   "id": "f85ac355",
   "metadata": {},
   "outputs": [
    {
     "data": {
      "text/plain": [
       "(array([ 6,  9, 22, 40, 44, 45, 54, 55, 64, 78, 82, 88]),\n",
       " array([11,  8,  7,  2,  5,  6,  4,  9,  1,  0,  3, 10]),\n",
       " array([78, 82, 88]),\n",
       " array([ 0,  3, 10]),\n",
       " array([78, 82, 88]))"
      ]
     },
     "execution_count": 29,
     "metadata": {},
     "output_type": "execute_result"
    }
   ],
   "source": [
    "t = rng.integers(0, 100, size=12)\n",
    "sorted_t = np.sort(t)\n",
    "idx = np.argsort(t)  # positions\n",
    "top3_vals = np.partition(t, -3)[-3:]  # unordered top3\n",
    "top3_idx = np.argpartition(t, -3)[-3:]\n",
    "(sorted_t, idx, top3_vals, top3_idx, t[top3_idx])"
   ]
  },
  {
   "cell_type": "code",
   "execution_count": null,
   "id": "b1d5e5bb",
   "metadata": {},
   "outputs": [],
   "source": [
    "last = np.array([\"e\", \"d\", \"a\", \"b\", \"c\"])\n",
    "first = np.array([2, 2, 1, 1, 1])\n",
    "order = np.lexsort((last, first))  # primary=first, secondary=last\n",
    "first[order], last[order]"
   ]
  },
  {
   "cell_type": "code",
   "execution_count": 2,
   "id": "95a7d119",
   "metadata": {},
   "outputs": [
    {
     "data": {
      "text/plain": [
       "((array([1, 2, 3, 4, 5]), array([1, 2, 1, 2, 1])),\n",
       " array([2, 3]),\n",
       " array([1, 2, 3, 4]),\n",
       " array([1, 3]),\n",
       " array([ True,  True, False]))"
      ]
     },
     "execution_count": 2,
     "metadata": {},
     "output_type": "execute_result"
    }
   ],
   "source": [
    "import numpy as np\n",
    "u = np.array([1, 2, 2, 3, 4, 4, 5])\n",
    "uniq, counts = np.unique(u, return_counts=True)\n",
    "inter = np.intersect1d([1, 2, 3], [2, 3, 4])\n",
    "union = np.union1d([1, 2, 3], [2, 3, 4])\n",
    "diff = np.setdiff1d([1, 2, 3, 4], [2, 4])\n",
    "isin = np.isin([1, 4, 6], [1, 2, 3, 4, 5])\n",
    "(uniq, counts), inter, union, diff, isin"
   ]
  },
  {
   "cell_type": "code",
   "execution_count": 4,
   "id": "919bd3d2",
   "metadata": {},
   "outputs": [
    {
     "ename": "NameError",
     "evalue": "name 'rng' is not defined",
     "output_type": "error",
     "traceback": [
      "\u001b[31m---------------------------------------------------------------------------\u001b[39m",
      "\u001b[31mNameError\u001b[39m                                 Traceback (most recent call last)",
      "\u001b[36mCell\u001b[39m\u001b[36m \u001b[39m\u001b[32mIn[4]\u001b[39m\u001b[32m, line 2\u001b[39m\n\u001b[32m      1\u001b[39m \u001b[38;5;28;01mimport\u001b[39;00m\u001b[38;5;250m \u001b[39m\u001b[34;01mnumpy\u001b[39;00m\u001b[38;5;250m \u001b[39m\u001b[38;5;28;01mas\u001b[39;00m\u001b[38;5;250m \u001b[39m\u001b[34;01mnp\u001b[39;00m\n\u001b[32m----> \u001b[39m\u001b[32m2\u001b[39m A = \u001b[43mrng\u001b[49m.normal(size=(\u001b[32m4\u001b[39m, \u001b[32m4\u001b[39m))\n\u001b[32m      3\u001b[39m b = rng.normal(size=\u001b[32m4\u001b[39m)\n\u001b[32m      5\u001b[39m x_sol = np.linalg.solve(A, b)  \u001b[38;5;66;03m# Ax=b\u001b[39;00m\n",
      "\u001b[31mNameError\u001b[39m: name 'rng' is not defined"
     ]
    }
   ],
   "source": [
    "import numpy as np\n",
    "A = rng.normal(size=(4, 4))\n",
    "b = rng.normal(size=4)\n",
    "\n",
    "x_sol = np.linalg.solve(A, b)  # Ax=b\n",
    "eigvals, eigvecs = np.linalg.eig(A)\n",
    "U, S, VT = np.linalg.svd(A)  # SVD\n",
    "Q, R = np.linalg.qr(A)  # QR\n",
    "normA = np.linalg.norm(A, ord=2)  # spectral norm\n",
    "\n",
    "x_sol, eigvals, S, normA, (Q.shape, R.shape)"
   ]
  },
  {
   "cell_type": "code",
   "execution_count": null,
   "id": "921efb3a",
   "metadata": {},
   "outputs": [],
   "source": []
  }
 ],
 "metadata": {
  "kernelspec": {
   "display_name": "Python 3",
   "language": "python",
   "name": "python3"
  },
  "language_info": {
   "codemirror_mode": {
    "name": "ipython",
    "version": 3
   },
   "file_extension": ".py",
   "mimetype": "text/x-python",
   "name": "python",
   "nbconvert_exporter": "python",
   "pygments_lexer": "ipython3",
   "version": "3.13.6"
  }
 },
 "nbformat": 4,
 "nbformat_minor": 5
}
