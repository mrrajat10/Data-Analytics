{
 "cells": [
  {
   "cell_type": "code",
   "execution_count": 2,
   "id": "98db984c",
   "metadata": {},
   "outputs": [
    {
     "data": {
      "text/plain": [
       "(array([-2.16800963,  1.05959955,  0.20477335, -0.42279626]),\n",
       " array([ 0.71996276+1.6580347j,  0.71996276-1.6580347j,\n",
       "        -0.88847067+0.j       ,  0.50094292+0.j       ]),\n",
       " array([3.23373689, 1.98078339, 0.67850178, 0.3346142 ]),\n",
       " np.float64(3.233736889627048),\n",
       " ((4, 4), (4, 4)))"
      ]
     },
     "execution_count": 2,
     "metadata": {},
     "output_type": "execute_result"
    }
   ],
   "source": [
    "import numpy as np\n",
    "rng = np.random.default_rng()\n",
    "A = rng.normal(size=(4, 4))\n",
    "b = rng.normal(size=4)\n",
    "\n",
    "x_sol = np.linalg.solve(A, b)  # Ax=b\n",
    "eigvals, eigvecs = np.linalg.eig(A)\n",
    "U, S, VT = np.linalg.svd(A)  # SVD\n",
    "Q, R = np.linalg.qr(A)  # QR\n",
    "normA = np.linalg.norm(A, ord=2)  # spectral norm\n",
    "\n",
    "x_sol, eigvals, S, normA, (Q.shape, R.shape)"
   ]
  },
  {
   "cell_type": "code",
   "execution_count": 4,
   "id": "bc729beb",
   "metadata": {},
   "outputs": [
    {
     "data": {
      "text/plain": [
       "(array([[ 1,  2,  3],\n",
       "        [ 2,  3,  4],\n",
       "        [ 3,  4,  5],\n",
       "        [ 4,  5,  6],\n",
       "        [ 5,  6,  7],\n",
       "        [ 6,  7,  8],\n",
       "        [ 7,  8,  9],\n",
       "        [ 8,  9, 10]]),\n",
       " array([2., 3., 4., 5., 6., 7., 8., 9.]))"
      ]
     },
     "execution_count": 4,
     "metadata": {},
     "output_type": "execute_result"
    }
   ],
   "source": [
    "from numpy.lib.stride_tricks import sliding_window_view\n",
    "\n",
    "x = np.arange(1, 11)\n",
    "W = sliding_window_view(x, window_shape=3)  # shape (8,3)\n",
    "rolling_mean = W.mean(axis=1)\n",
    "W, rolling_mean"
   ]
  },
  {
   "cell_type": "code",
   "execution_count": 3,
   "id": "a29a1d79",
   "metadata": {},
   "outputs": [
    {
     "data": {
      "text/plain": [
       "(array([[ 0.00123015,  0.29874554, -0.27413786],\n",
       "        [-0.89059184, -0.45467079, -0.99164655]]),\n",
       " array([9, 0, 4, 8, 1]),\n",
       " array([4, 5, 8, 0]),\n",
       " array([5, 3, 4, 1, 2, 0]))"
      ]
     },
     "execution_count": 3,
     "metadata": {},
     "output_type": "execute_result"
    }
   ],
   "source": [
    "rng = np.random.default_rng(7)\n",
    "normals = rng.normal(size=(2, 3))\n",
    "ints = rng.integers(0, 10, size=5)\n",
    "choice = rng.choice(np.arange(10), size=4, replace=False)\n",
    "perm = rng.permutation(np.arange(6))\n",
    "normals, ints, choice, perm"
   ]
  },
  {
   "cell_type": "code",
   "execution_count": 5,
   "id": "2ef7270a",
   "metadata": {},
   "outputs": [
    {
     "data": {
      "text/plain": [
       "(array(['2025-01-01', '2025-01-03', '2025-02-01'], dtype='datetime64[D]'),\n",
       " array([ 2, 29], dtype='timedelta64[D]'),\n",
       " array(['2025-01-08', '2025-01-10', '2025-02-08'], dtype='datetime64[D]'))"
      ]
     },
     "execution_count": 5,
     "metadata": {},
     "output_type": "execute_result"
    }
   ],
   "source": [
    "dates = np.array([\"2025-01-01\", \"2025-01-03\", \"2025-02-01\"], dtype=\"datetime64[D]\")\n",
    "deltas = np.diff(dates)\n",
    "add7 = dates + np.timedelta64(7, \"D\")\n",
    "dates, deltas, add7"
   ]
  }
 ],
 "metadata": {
  "kernelspec": {
   "display_name": "Python 3",
   "language": "python",
   "name": "python3"
  },
  "language_info": {
   "codemirror_mode": {
    "name": "ipython",
    "version": 3
   },
   "file_extension": ".py",
   "mimetype": "text/x-python",
   "name": "python",
   "nbconvert_exporter": "python",
   "pygments_lexer": "ipython3",
   "version": "3.13.6"
  }
 },
 "nbformat": 4,
 "nbformat_minor": 5
}
